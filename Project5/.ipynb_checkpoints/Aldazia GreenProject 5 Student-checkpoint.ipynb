{
 "cells": [
  {
   "cell_type": "markdown",
   "metadata": {},
   "source": [
    "## [Computational Social Science] Project 5: Natural Language Processing"
   ]
  },
  {
   "cell_type": "markdown",
   "metadata": {},
   "source": [
    "In this project, you will use natural language processing techniques to explore a dataset containing tweets from members of the 116th United States Congress that met from January 3, 2019 to January 2, 2021. The dataset has also been cleaned to contain information about each legislator. Concretely, you will do the following:\n",
    "\n",
    "* Preprocess the text of legislators' tweets\n",
    "* Conduct Exploratory Data Analysis of the text\n",
    "* Use sentiment analysis to explore differences between legislators' tweets\n",
    "* Featurize text with manual feature engineering, frequency-based, and vector-based techniques\n",
    "* Predict legislators' political parties and whether they are a Senator or Representative\n",
    "\n",
    "You will explore two questions that relate to two central findings in political science and examine how they relate to the text of legislators' tweets. First, political scientists have argued that U.S. politics is currently highly polarized relative to other periods in American history, but also that the polarization is asymmetric. Historically, there were several conservative Democrats (i.e. \"blue dog Democrats\") and liberal Republicans (i.e. \"Rockefeller Republicans\"), as measured by popular measurement tools like [DW-NOMINATE](https://en.wikipedia.org/wiki/NOMINATE_(scaling_method)#:~:text=DW\\%2DNOMINATE\\%20scores\\%20have\\%20been,in\\%20the\\%20liberal\\%2Dconservative\\%20scale.). However, in the last few years, there are few if any examples of any Democrat in Congress being further to the right than any Republican and vice versa. At the same time, scholars have argued that this polarization is mostly a function of the Republican party moving further right than the Democratic party has moved left. **Does this sort of asymmetric polarization show up in how politicians communicate to their constituents through tweets?**\n",
    "\n",
    "Second, the U.S. Congress is a bicameral legislature, and there has long been debate about partisanship in the Senate versus the House. The House of Representatives is apportioned by population and all members serve two year terms. In the Senate, each state receives two Senators and each Senator serves a term of six years. For a variety of reasons (smaller chamber size, more insulation from the voters, rules and norms like the filibuster, etc.), the Senate has been argued to be the \"cooling saucer\" of Congress in that it is more bipartisan and moderate than the House. **Does the theory that the Senate is more moderate have support in Senators' tweets?**\n",
    "\n",
    "**Note**: See the project handout for more details on caveats and the data dictionary."
   ]
  },
  {
   "cell_type": "code",
   "execution_count": 3,
   "metadata": {},
   "outputs": [
    {
     "name": "stdout",
     "output_type": "stream",
     "text": [
      "Requirement already satisfied: spacy in /opt/anaconda3/lib/python3.12/site-packages (3.8.4)\n",
      "Requirement already satisfied: spacy-legacy<3.1.0,>=3.0.11 in /opt/anaconda3/lib/python3.12/site-packages (from spacy) (3.0.12)\n",
      "Requirement already satisfied: spacy-loggers<2.0.0,>=1.0.0 in /opt/anaconda3/lib/python3.12/site-packages (from spacy) (1.0.5)\n",
      "Requirement already satisfied: murmurhash<1.1.0,>=0.28.0 in /opt/anaconda3/lib/python3.12/site-packages (from spacy) (1.0.12)\n",
      "Requirement already satisfied: cymem<2.1.0,>=2.0.2 in /opt/anaconda3/lib/python3.12/site-packages (from spacy) (2.0.11)\n",
      "Requirement already satisfied: preshed<3.1.0,>=3.0.2 in /opt/anaconda3/lib/python3.12/site-packages (from spacy) (3.0.9)\n",
      "Requirement already satisfied: thinc<8.4.0,>=8.3.4 in /opt/anaconda3/lib/python3.12/site-packages (from spacy) (8.3.4)\n",
      "Requirement already satisfied: wasabi<1.2.0,>=0.9.1 in /opt/anaconda3/lib/python3.12/site-packages (from spacy) (1.1.3)\n",
      "Requirement already satisfied: srsly<3.0.0,>=2.4.3 in /opt/anaconda3/lib/python3.12/site-packages (from spacy) (2.5.1)\n",
      "Requirement already satisfied: catalogue<2.1.0,>=2.0.6 in /opt/anaconda3/lib/python3.12/site-packages (from spacy) (2.0.10)\n",
      "Requirement already satisfied: weasel<0.5.0,>=0.1.0 in /opt/anaconda3/lib/python3.12/site-packages (from spacy) (0.4.1)\n",
      "Requirement already satisfied: typer<1.0.0,>=0.3.0 in /opt/anaconda3/lib/python3.12/site-packages (from spacy) (0.15.1)\n",
      "Requirement already satisfied: tqdm<5.0.0,>=4.38.0 in /opt/anaconda3/lib/python3.12/site-packages (from spacy) (4.66.4)\n",
      "Requirement already satisfied: numpy>=1.19.0 in /opt/anaconda3/lib/python3.12/site-packages (from spacy) (1.26.4)\n",
      "Requirement already satisfied: requests<3.0.0,>=2.13.0 in /opt/anaconda3/lib/python3.12/site-packages (from spacy) (2.32.2)\n",
      "Requirement already satisfied: pydantic!=1.8,!=1.8.1,<3.0.0,>=1.7.4 in /opt/anaconda3/lib/python3.12/site-packages (from spacy) (2.7.4)\n",
      "Requirement already satisfied: jinja2 in /opt/anaconda3/lib/python3.12/site-packages (from spacy) (3.1.4)\n",
      "Requirement already satisfied: setuptools in /opt/anaconda3/lib/python3.12/site-packages (from spacy) (69.5.1)\n",
      "Requirement already satisfied: packaging>=20.0 in /opt/anaconda3/lib/python3.12/site-packages (from spacy) (23.2)\n",
      "Requirement already satisfied: langcodes<4.0.0,>=3.2.0 in /opt/anaconda3/lib/python3.12/site-packages (from spacy) (3.5.0)\n",
      "Requirement already satisfied: language-data>=1.2 in /opt/anaconda3/lib/python3.12/site-packages (from langcodes<4.0.0,>=3.2.0->spacy) (1.3.0)\n",
      "Requirement already satisfied: annotated-types>=0.4.0 in /opt/anaconda3/lib/python3.12/site-packages (from pydantic!=1.8,!=1.8.1,<3.0.0,>=1.7.4->spacy) (0.6.0)\n",
      "Requirement already satisfied: pydantic-core==2.18.4 in /opt/anaconda3/lib/python3.12/site-packages (from pydantic!=1.8,!=1.8.1,<3.0.0,>=1.7.4->spacy) (2.18.4)\n",
      "Requirement already satisfied: typing-extensions>=4.6.1 in /opt/anaconda3/lib/python3.12/site-packages (from pydantic!=1.8,!=1.8.1,<3.0.0,>=1.7.4->spacy) (4.11.0)\n",
      "Requirement already satisfied: charset-normalizer<4,>=2 in /opt/anaconda3/lib/python3.12/site-packages (from requests<3.0.0,>=2.13.0->spacy) (2.0.4)\n",
      "Requirement already satisfied: idna<4,>=2.5 in /opt/anaconda3/lib/python3.12/site-packages (from requests<3.0.0,>=2.13.0->spacy) (3.7)\n",
      "Requirement already satisfied: urllib3<3,>=1.21.1 in /opt/anaconda3/lib/python3.12/site-packages (from requests<3.0.0,>=2.13.0->spacy) (2.2.2)\n",
      "Requirement already satisfied: certifi>=2017.4.17 in /opt/anaconda3/lib/python3.12/site-packages (from requests<3.0.0,>=2.13.0->spacy) (2024.7.4)\n",
      "Requirement already satisfied: blis<1.3.0,>=1.2.0 in /opt/anaconda3/lib/python3.12/site-packages (from thinc<8.4.0,>=8.3.4->spacy) (1.2.0)\n",
      "Requirement already satisfied: confection<1.0.0,>=0.0.1 in /opt/anaconda3/lib/python3.12/site-packages (from thinc<8.4.0,>=8.3.4->spacy) (0.1.5)\n",
      "Requirement already satisfied: click>=8.0.0 in /opt/anaconda3/lib/python3.12/site-packages (from typer<1.0.0,>=0.3.0->spacy) (8.1.7)\n",
      "Requirement already satisfied: shellingham>=1.3.0 in /opt/anaconda3/lib/python3.12/site-packages (from typer<1.0.0,>=0.3.0->spacy) (1.5.4)\n",
      "Requirement already satisfied: rich>=10.11.0 in /opt/anaconda3/lib/python3.12/site-packages (from typer<1.0.0,>=0.3.0->spacy) (13.9.3)\n",
      "Requirement already satisfied: cloudpathlib<1.0.0,>=0.7.0 in /opt/anaconda3/lib/python3.12/site-packages (from weasel<0.5.0,>=0.1.0->spacy) (0.20.0)\n",
      "Requirement already satisfied: smart-open<8.0.0,>=5.2.1 in /opt/anaconda3/lib/python3.12/site-packages (from weasel<0.5.0,>=0.1.0->spacy) (5.2.1)\n",
      "Requirement already satisfied: MarkupSafe>=2.0 in /opt/anaconda3/lib/python3.12/site-packages (from jinja2->spacy) (2.1.3)\n",
      "Requirement already satisfied: marisa-trie>=1.1.0 in /opt/anaconda3/lib/python3.12/site-packages (from language-data>=1.2->langcodes<4.0.0,>=3.2.0->spacy) (1.2.1)\n",
      "Requirement already satisfied: markdown-it-py>=2.2.0 in /opt/anaconda3/lib/python3.12/site-packages (from rich>=10.11.0->typer<1.0.0,>=0.3.0->spacy) (2.2.0)\n",
      "Requirement already satisfied: pygments<3.0.0,>=2.13.0 in /opt/anaconda3/lib/python3.12/site-packages (from rich>=10.11.0->typer<1.0.0,>=0.3.0->spacy) (2.15.1)\n",
      "Requirement already satisfied: mdurl~=0.1 in /opt/anaconda3/lib/python3.12/site-packages (from markdown-it-py>=2.2.0->rich>=10.11.0->typer<1.0.0,>=0.3.0->spacy) (0.1.0)\n",
      "Collecting en-core-web-sm==3.8.0\n",
      "  Downloading https://github.com/explosion/spacy-models/releases/download/en_core_web_sm-3.8.0/en_core_web_sm-3.8.0-py3-none-any.whl (12.8 MB)\n",
      "\u001b[2K     \u001b[90m━━━━━━━━━━━━━━━━━━━━━━━━━━━━━━━━━━━━━━━━\u001b[0m \u001b[32m12.8/12.8 MB\u001b[0m \u001b[31m12.1 MB/s\u001b[0m eta \u001b[36m0:00:00\u001b[0m00:01\u001b[0m00:01\u001b[0m\n",
      "\u001b[?25h\u001b[38;5;2m✔ Download and installation successful\u001b[0m\n",
      "You can now load the package via spacy.load('en_core_web_sm')\n",
      "Requirement already satisfied: pydantic==2.7.4 in /opt/anaconda3/lib/python3.12/site-packages (2.7.4)\n",
      "Requirement already satisfied: annotated-types>=0.4.0 in /opt/anaconda3/lib/python3.12/site-packages (from pydantic==2.7.4) (0.6.0)\n",
      "Requirement already satisfied: pydantic-core==2.18.4 in /opt/anaconda3/lib/python3.12/site-packages (from pydantic==2.7.4) (2.18.4)\n",
      "Requirement already satisfied: typing-extensions>=4.6.1 in /opt/anaconda3/lib/python3.12/site-packages (from pydantic==2.7.4) (4.11.0)\n"
     ]
    }
   ],
   "source": [
    "!pip install spacy\n",
    "!python -m spacy download en_core_web_sm\n",
    "!pip install pydantic==2.7.4"
   ]
  },
  {
   "cell_type": "code",
   "execution_count": 4,
   "metadata": {},
   "outputs": [
    {
     "name": "stdout",
     "output_type": "stream",
     "text": [
      "Requirement already satisfied: gensim in /opt/anaconda3/lib/python3.12/site-packages (4.3.2)\n",
      "Requirement already satisfied: numpy>=1.18.5 in /opt/anaconda3/lib/python3.12/site-packages (from gensim) (1.26.4)\n",
      "Requirement already satisfied: scipy>=1.7.0 in /opt/anaconda3/lib/python3.12/site-packages (from gensim) (1.13.1)\n",
      "Requirement already satisfied: smart-open>=1.8.1 in /opt/anaconda3/lib/python3.12/site-packages (from gensim) (5.2.1)\n"
     ]
    }
   ],
   "source": [
    "!pip install gensim"
   ]
  },
  {
   "cell_type": "code",
   "execution_count": 5,
   "metadata": {},
   "outputs": [],
   "source": [
    "# pandas and numpy\n",
    "import pandas as pd\n",
    "import numpy as np\n",
    "import spacy\n",
    "# punctuation, stop words and English language model\n",
    "from string import punctuation\n",
    "from spacy.lang.en.stop_words import STOP_WORDS\n",
    "import en_core_web_sm\n",
    "nlp = en_core_web_sm.load()\n",
    "\n",
    "# textblob\n",
    "from textblob import TextBlob\n",
    "\n",
    "# countvectorizer, tfidfvectorizer\n",
    "from sklearn.feature_extraction.text import CountVectorizer, TfidfVectorizer\n",
    "\n",
    "# gensim\n",
    "#import gensim \n",
    "#from gensim import models\n",
    "\n",
    "# plotting\n",
    "import matplotlib.pyplot as plt\n",
    "import seaborn as sns\n",
    "%matplotlib inline"
   ]
  },
  {
   "cell_type": "code",
   "execution_count": 6,
   "metadata": {},
   "outputs": [],
   "source": [
    "# load data \n",
    "# ----------\n",
    "congress_tweets = pd.read_csv(\"../../data/116th Congressional Tweets and Demographics.csv\")\n",
    "# fill in this line of code with a sufficient number of tweets, depending on your computational resources\n",
    "congress_tweets = congress_tweets.dropna(subset = ['text']).reset_index()"
   ]
  },
  {
   "cell_type": "code",
   "execution_count": 7,
   "metadata": {},
   "outputs": [
    {
     "data": {
      "text/html": [
       "<div>\n",
       "<style scoped>\n",
       "    .dataframe tbody tr th:only-of-type {\n",
       "        vertical-align: middle;\n",
       "    }\n",
       "\n",
       "    .dataframe tbody tr th {\n",
       "        vertical-align: top;\n",
       "    }\n",
       "\n",
       "    .dataframe thead th {\n",
       "        text-align: right;\n",
       "    }\n",
       "</style>\n",
       "<table border=\"1\" class=\"dataframe\">\n",
       "  <thead>\n",
       "    <tr style=\"text-align: right;\">\n",
       "      <th></th>\n",
       "      <th>index</th>\n",
       "      <th>tweet_id</th>\n",
       "      <th>screen_name</th>\n",
       "      <th>datetime</th>\n",
       "      <th>text</th>\n",
       "      <th>name_wikipedia</th>\n",
       "      <th>position</th>\n",
       "      <th>joined_congress_date</th>\n",
       "      <th>birthday</th>\n",
       "      <th>gender</th>\n",
       "      <th>state</th>\n",
       "      <th>district_number</th>\n",
       "      <th>party</th>\n",
       "      <th>trump_2016_state_share</th>\n",
       "      <th>clinton_2016_state_share</th>\n",
       "      <th>obama_2012_state_share</th>\n",
       "      <th>romney_2012_state_share</th>\n",
       "    </tr>\n",
       "  </thead>\n",
       "  <tbody>\n",
       "    <tr>\n",
       "      <th>908961</th>\n",
       "      <td>908961</td>\n",
       "      <td>1.250810e+18</td>\n",
       "      <td>RepJayapal</td>\n",
       "      <td>2020-04-16T11:31:24-04:00</td>\n",
       "      <td>RT @RepKClark 22 million Americans filed for u...</td>\n",
       "      <td>Pramila Jayapal</td>\n",
       "      <td>Rep</td>\n",
       "      <td>3-Jan-17</td>\n",
       "      <td>9/21/1965</td>\n",
       "      <td>F</td>\n",
       "      <td>WA</td>\n",
       "      <td>7</td>\n",
       "      <td>Democrat</td>\n",
       "      <td>1,221,747</td>\n",
       "      <td>1,742,718</td>\n",
       "      <td>1,755,396</td>\n",
       "      <td>1,290,670</td>\n",
       "    </tr>\n",
       "    <tr>\n",
       "      <th>175615</th>\n",
       "      <td>175615</td>\n",
       "      <td>1.098040e+18</td>\n",
       "      <td>RepJohnLarson</td>\n",
       "      <td>2019-02-19T20:51:22-05:00</td>\n",
       "      <td>Thanks to all who came out to tonight’s forum ...</td>\n",
       "      <td>John B. Larson</td>\n",
       "      <td>Rep</td>\n",
       "      <td>3-Jan-99</td>\n",
       "      <td>7/22/1948</td>\n",
       "      <td>M</td>\n",
       "      <td>CT</td>\n",
       "      <td>1</td>\n",
       "      <td>Democrat</td>\n",
       "      <td>673,215</td>\n",
       "      <td>897,572</td>\n",
       "      <td>905,083</td>\n",
       "      <td>634,892</td>\n",
       "    </tr>\n",
       "    <tr>\n",
       "      <th>64613</th>\n",
       "      <td>64613</td>\n",
       "      <td>1.105510e+18</td>\n",
       "      <td>SpeakerPelosi</td>\n",
       "      <td>2019-03-12T12:55:01-04:00</td>\n",
       "      <td>RT @RepFilemonVela #Dreamers &amp;amp; TPS recipie...</td>\n",
       "      <td>Nancy Pelosi</td>\n",
       "      <td>Rep</td>\n",
       "      <td>2-Jun-87</td>\n",
       "      <td>3/26/1940</td>\n",
       "      <td>F</td>\n",
       "      <td>CA</td>\n",
       "      <td>12</td>\n",
       "      <td>Democrat</td>\n",
       "      <td>4,483,814</td>\n",
       "      <td>8,753,792</td>\n",
       "      <td>7,854,285</td>\n",
       "      <td>4,839,958</td>\n",
       "    </tr>\n",
       "    <tr>\n",
       "      <th>783091</th>\n",
       "      <td>783091</td>\n",
       "      <td>1.174370e+18</td>\n",
       "      <td>JoaquinCastrotx</td>\n",
       "      <td>2019-09-18T13:24:49-04:00</td>\n",
       "      <td>RT @HispanicCaucus @JoaquinCastrotx @TheBlackC...</td>\n",
       "      <td>Joaquín Castro</td>\n",
       "      <td>Rep</td>\n",
       "      <td>3-Jan-13</td>\n",
       "      <td>9/16/1974</td>\n",
       "      <td>M</td>\n",
       "      <td>TX</td>\n",
       "      <td>20</td>\n",
       "      <td>Democrat</td>\n",
       "      <td>4,685,047</td>\n",
       "      <td>3,877,868</td>\n",
       "      <td>3,308,124</td>\n",
       "      <td>4,569,843</td>\n",
       "    </tr>\n",
       "    <tr>\n",
       "      <th>553399</th>\n",
       "      <td>553399</td>\n",
       "      <td>1.099380e+18</td>\n",
       "      <td>RepJoeMorelle</td>\n",
       "      <td>2019-02-23T13:29:08-05:00</td>\n",
       "      <td>Thank you to @NYGovCuomo for being here today ...</td>\n",
       "      <td>Joseph D. Morelle</td>\n",
       "      <td>Rep</td>\n",
       "      <td>13-Nov-18</td>\n",
       "      <td>4/29/1957</td>\n",
       "      <td>M</td>\n",
       "      <td>NY</td>\n",
       "      <td>25</td>\n",
       "      <td>Democrat</td>\n",
       "      <td>2,819,533</td>\n",
       "      <td>4,556,118</td>\n",
       "      <td>4,485,741</td>\n",
       "      <td>2,490,431</td>\n",
       "    </tr>\n",
       "    <tr>\n",
       "      <th>32238</th>\n",
       "      <td>32238</td>\n",
       "      <td>1.250890e+18</td>\n",
       "      <td>RepGregStanton</td>\n",
       "      <td>2020-04-16T17:06:29-04:00</td>\n",
       "      <td>.@RepRubenGallego and I are urging companies w...</td>\n",
       "      <td>Greg Stanton</td>\n",
       "      <td>Rep</td>\n",
       "      <td>3-Jan-19</td>\n",
       "      <td>3/8/1970</td>\n",
       "      <td>M</td>\n",
       "      <td>AZ</td>\n",
       "      <td>9</td>\n",
       "      <td>Democrat</td>\n",
       "      <td>1,252,401</td>\n",
       "      <td>1,161,167</td>\n",
       "      <td>1,025,232</td>\n",
       "      <td>1,233,654</td>\n",
       "    </tr>\n",
       "    <tr>\n",
       "      <th>20570</th>\n",
       "      <td>20570</td>\n",
       "      <td>1.180130e+18</td>\n",
       "      <td>RepAndyBiggsAZ</td>\n",
       "      <td>2019-10-04T10:38:19-04:00</td>\n",
       "      <td>Another month, another jobs report, showing th...</td>\n",
       "      <td>Andy Biggs</td>\n",
       "      <td>Rep</td>\n",
       "      <td>3-Jan-17</td>\n",
       "      <td>11/7/1958</td>\n",
       "      <td>M</td>\n",
       "      <td>AZ</td>\n",
       "      <td>5</td>\n",
       "      <td>Republican</td>\n",
       "      <td>1,252,401</td>\n",
       "      <td>1,161,167</td>\n",
       "      <td>1,025,232</td>\n",
       "      <td>1,233,654</td>\n",
       "    </tr>\n",
       "    <tr>\n",
       "      <th>704089</th>\n",
       "      <td>704089</td>\n",
       "      <td>1.286440e+18</td>\n",
       "      <td>RepDwightEvans</td>\n",
       "      <td>2020-07-23T19:15:21-04:00</td>\n",
       "      <td>RT @eyokley NEW: Police reform debate paints a...</td>\n",
       "      <td>Dwight Evans</td>\n",
       "      <td>Rep</td>\n",
       "      <td>14-Nov-16</td>\n",
       "      <td>5/16/1954</td>\n",
       "      <td>M</td>\n",
       "      <td>PA</td>\n",
       "      <td>3</td>\n",
       "      <td>Democrat</td>\n",
       "      <td>2,970,733</td>\n",
       "      <td>2,926,441</td>\n",
       "      <td>2,990,274</td>\n",
       "      <td>2,680,434</td>\n",
       "    </tr>\n",
       "    <tr>\n",
       "      <th>246925</th>\n",
       "      <td>246925</td>\n",
       "      <td>1.292220e+18</td>\n",
       "      <td>RepDMP</td>\n",
       "      <td>2020-08-08T18:02:19-04:00</td>\n",
       "      <td>This order cuts unemployment, abandons our loc...</td>\n",
       "      <td>Debbie Mucarsel-Powell</td>\n",
       "      <td>Rep</td>\n",
       "      <td>3-Jan-19</td>\n",
       "      <td>1/18/1971</td>\n",
       "      <td>F</td>\n",
       "      <td>FL</td>\n",
       "      <td>26</td>\n",
       "      <td>Democrat</td>\n",
       "      <td>4,617,886</td>\n",
       "      <td>4,504,975</td>\n",
       "      <td>4,237,756</td>\n",
       "      <td>4,163,447</td>\n",
       "    </tr>\n",
       "    <tr>\n",
       "      <th>267417</th>\n",
       "      <td>267417</td>\n",
       "      <td>1.092890e+18</td>\n",
       "      <td>CongMikeSimpson</td>\n",
       "      <td>2019-02-05T15:48:48-05:00</td>\n",
       "      <td>RT @RepRussFulcher January reports show amazin...</td>\n",
       "      <td>Mike Simpson</td>\n",
       "      <td>Rep</td>\n",
       "      <td>3-Jan-99</td>\n",
       "      <td>9/8/1950</td>\n",
       "      <td>M</td>\n",
       "      <td>ID</td>\n",
       "      <td>2</td>\n",
       "      <td>Republican</td>\n",
       "      <td>409,055</td>\n",
       "      <td>189,765</td>\n",
       "      <td>212,787</td>\n",
       "      <td>420,911</td>\n",
       "    </tr>\n",
       "    <tr>\n",
       "      <th>327495</th>\n",
       "      <td>327495</td>\n",
       "      <td>1.330960e+18</td>\n",
       "      <td>RepJimBanks</td>\n",
       "      <td>2020-11-23T14:59:26-05:00</td>\n",
       "      <td>First stop on @JoeBiden's apology tour... Beij...</td>\n",
       "      <td>Jim Banks</td>\n",
       "      <td>Rep</td>\n",
       "      <td>3-Jan-17</td>\n",
       "      <td>7/16/1979</td>\n",
       "      <td>M</td>\n",
       "      <td>IN</td>\n",
       "      <td>3</td>\n",
       "      <td>Republican</td>\n",
       "      <td>1,557,286</td>\n",
       "      <td>1,033,126</td>\n",
       "      <td>1,152,887</td>\n",
       "      <td>1,420,543</td>\n",
       "    </tr>\n",
       "    <tr>\n",
       "      <th>445303</th>\n",
       "      <td>445303</td>\n",
       "      <td>1.229880e+18</td>\n",
       "      <td>SenTinaSmith</td>\n",
       "      <td>2020-02-18T16:15:02-05:00</td>\n",
       "      <td>After my staff and I completed 21 housing list...</td>\n",
       "      <td>Tina Smith</td>\n",
       "      <td>Sen</td>\n",
       "      <td>3-Jan-18</td>\n",
       "      <td>3/4/1958</td>\n",
       "      <td>F</td>\n",
       "      <td>MN</td>\n",
       "      <td>Senate</td>\n",
       "      <td>Democrat</td>\n",
       "      <td>1,322,951</td>\n",
       "      <td>1,367,716</td>\n",
       "      <td>1,546,167</td>\n",
       "      <td>1,320,225</td>\n",
       "    </tr>\n",
       "    <tr>\n",
       "      <th>639118</th>\n",
       "      <td>639118</td>\n",
       "      <td>1.204890e+18</td>\n",
       "      <td>RepBillJohnson</td>\n",
       "      <td>2019-12-11T17:42:20-05:00</td>\n",
       "      <td>I was pleased to serve as an NDAA Conferee fro...</td>\n",
       "      <td>Bill Johnson</td>\n",
       "      <td>Rep</td>\n",
       "      <td>3-Jan-11</td>\n",
       "      <td>11/10/1954</td>\n",
       "      <td>M</td>\n",
       "      <td>OH</td>\n",
       "      <td>6</td>\n",
       "      <td>Republican</td>\n",
       "      <td>2,841,005</td>\n",
       "      <td>2,394,164</td>\n",
       "      <td>2,827,709</td>\n",
       "      <td>2,661,437</td>\n",
       "    </tr>\n",
       "    <tr>\n",
       "      <th>780124</th>\n",
       "      <td>780124</td>\n",
       "      <td>1.160890e+18</td>\n",
       "      <td>JohnCornyn</td>\n",
       "      <td>2019-08-12T08:13:37-04:00</td>\n",
       "      <td>RT @Jkylebass chinese army has invaded HK. The...</td>\n",
       "      <td>John Cornyn</td>\n",
       "      <td>Sen</td>\n",
       "      <td>2-Dec-02</td>\n",
       "      <td>2/2/1952</td>\n",
       "      <td>M</td>\n",
       "      <td>TX</td>\n",
       "      <td>Senate</td>\n",
       "      <td>Republican</td>\n",
       "      <td>4,685,047</td>\n",
       "      <td>3,877,868</td>\n",
       "      <td>3,308,124</td>\n",
       "      <td>4,569,843</td>\n",
       "    </tr>\n",
       "    <tr>\n",
       "      <th>48453</th>\n",
       "      <td>48453</td>\n",
       "      <td>1.174380e+18</td>\n",
       "      <td>RepRickCrawford</td>\n",
       "      <td>2019-09-18T13:47:36-04:00</td>\n",
       "      <td>Colin is a great person to lead @BeltwayBeef f...</td>\n",
       "      <td>Rick Crawford</td>\n",
       "      <td>Rep</td>\n",
       "      <td>3-Jan-11</td>\n",
       "      <td>1/22/1966</td>\n",
       "      <td>M</td>\n",
       "      <td>AR</td>\n",
       "      <td>1</td>\n",
       "      <td>Republican</td>\n",
       "      <td>684,872</td>\n",
       "      <td>380,494</td>\n",
       "      <td>394,409</td>\n",
       "      <td>647,744</td>\n",
       "    </tr>\n",
       "    <tr>\n",
       "      <th>57313</th>\n",
       "      <td>57313</td>\n",
       "      <td>1.086420e+18</td>\n",
       "      <td>NormaJTorres</td>\n",
       "      <td>2019-01-18T19:12:52-05:00</td>\n",
       "      <td>DREAMers are just as American as any us, and t...</td>\n",
       "      <td>Norma Torres</td>\n",
       "      <td>Rep</td>\n",
       "      <td>3-Jan-15</td>\n",
       "      <td>4/4/1965</td>\n",
       "      <td>F</td>\n",
       "      <td>CA</td>\n",
       "      <td>35</td>\n",
       "      <td>Democrat</td>\n",
       "      <td>4,483,814</td>\n",
       "      <td>8,753,792</td>\n",
       "      <td>7,854,285</td>\n",
       "      <td>4,839,958</td>\n",
       "    </tr>\n",
       "    <tr>\n",
       "      <th>536607</th>\n",
       "      <td>536607</td>\n",
       "      <td>1.329930e+18</td>\n",
       "      <td>RepAndyKimNJ</td>\n",
       "      <td>2020-11-20T18:47:23-05:00</td>\n",
       "      <td>My thoughts tonight are with his family and th...</td>\n",
       "      <td>Andy Kim</td>\n",
       "      <td>Rep</td>\n",
       "      <td>3-Jan-19</td>\n",
       "      <td>7/12/1982</td>\n",
       "      <td>M</td>\n",
       "      <td>NJ</td>\n",
       "      <td>3</td>\n",
       "      <td>Democrat</td>\n",
       "      <td>1,601,933</td>\n",
       "      <td>2,148,278</td>\n",
       "      <td>2,125,101</td>\n",
       "      <td>1,477,568</td>\n",
       "    </tr>\n",
       "    <tr>\n",
       "      <th>882360</th>\n",
       "      <td>882360</td>\n",
       "      <td>1.288280e+18</td>\n",
       "      <td>RepDonBeyer</td>\n",
       "      <td>2020-07-28T21:06:41-04:00</td>\n",
       "      <td>RT @DavidCornDC .@RepSwalwell: Are you investi...</td>\n",
       "      <td>Don Beyer</td>\n",
       "      <td>Rep</td>\n",
       "      <td>3-Jan-15</td>\n",
       "      <td>6/20/1950</td>\n",
       "      <td>M</td>\n",
       "      <td>VA</td>\n",
       "      <td>8</td>\n",
       "      <td>Democrat</td>\n",
       "      <td>1,769,443</td>\n",
       "      <td>1,981,473</td>\n",
       "      <td>1,971,820</td>\n",
       "      <td>1,822,522</td>\n",
       "    </tr>\n",
       "    <tr>\n",
       "      <th>638684</th>\n",
       "      <td>638684</td>\n",
       "      <td>1.200820e+18</td>\n",
       "      <td>RepDaveJoyce</td>\n",
       "      <td>2019-11-30T11:50:45-05:00</td>\n",
       "      <td>My first stop was the new police station (with...</td>\n",
       "      <td>David Joyce</td>\n",
       "      <td>Rep</td>\n",
       "      <td>3-Jan-13</td>\n",
       "      <td>3/17/1957</td>\n",
       "      <td>M</td>\n",
       "      <td>OH</td>\n",
       "      <td>14</td>\n",
       "      <td>Republican</td>\n",
       "      <td>2,841,005</td>\n",
       "      <td>2,394,164</td>\n",
       "      <td>2,827,709</td>\n",
       "      <td>2,661,437</td>\n",
       "    </tr>\n",
       "    <tr>\n",
       "      <th>871843</th>\n",
       "      <td>871843</td>\n",
       "      <td>1.205540e+18</td>\n",
       "      <td>RepDonBeyer</td>\n",
       "      <td>2019-12-13T12:09:53-05:00</td>\n",
       "      <td>RT @CaucusOnClimate To commemorate the 4th ann...</td>\n",
       "      <td>Don Beyer</td>\n",
       "      <td>Rep</td>\n",
       "      <td>3-Jan-15</td>\n",
       "      <td>6/20/1950</td>\n",
       "      <td>M</td>\n",
       "      <td>VA</td>\n",
       "      <td>8</td>\n",
       "      <td>Democrat</td>\n",
       "      <td>1,769,443</td>\n",
       "      <td>1,981,473</td>\n",
       "      <td>1,971,820</td>\n",
       "      <td>1,822,522</td>\n",
       "    </tr>\n",
       "  </tbody>\n",
       "</table>\n",
       "</div>"
      ],
      "text/plain": [
       "         index      tweet_id      screen_name                   datetime  \\\n",
       "908961  908961  1.250810e+18       RepJayapal  2020-04-16T11:31:24-04:00   \n",
       "175615  175615  1.098040e+18    RepJohnLarson  2019-02-19T20:51:22-05:00   \n",
       "64613    64613  1.105510e+18    SpeakerPelosi  2019-03-12T12:55:01-04:00   \n",
       "783091  783091  1.174370e+18  JoaquinCastrotx  2019-09-18T13:24:49-04:00   \n",
       "553399  553399  1.099380e+18    RepJoeMorelle  2019-02-23T13:29:08-05:00   \n",
       "32238    32238  1.250890e+18   RepGregStanton  2020-04-16T17:06:29-04:00   \n",
       "20570    20570  1.180130e+18   RepAndyBiggsAZ  2019-10-04T10:38:19-04:00   \n",
       "704089  704089  1.286440e+18   RepDwightEvans  2020-07-23T19:15:21-04:00   \n",
       "246925  246925  1.292220e+18           RepDMP  2020-08-08T18:02:19-04:00   \n",
       "267417  267417  1.092890e+18  CongMikeSimpson  2019-02-05T15:48:48-05:00   \n",
       "327495  327495  1.330960e+18      RepJimBanks  2020-11-23T14:59:26-05:00   \n",
       "445303  445303  1.229880e+18     SenTinaSmith  2020-02-18T16:15:02-05:00   \n",
       "639118  639118  1.204890e+18   RepBillJohnson  2019-12-11T17:42:20-05:00   \n",
       "780124  780124  1.160890e+18       JohnCornyn  2019-08-12T08:13:37-04:00   \n",
       "48453    48453  1.174380e+18  RepRickCrawford  2019-09-18T13:47:36-04:00   \n",
       "57313    57313  1.086420e+18     NormaJTorres  2019-01-18T19:12:52-05:00   \n",
       "536607  536607  1.329930e+18     RepAndyKimNJ  2020-11-20T18:47:23-05:00   \n",
       "882360  882360  1.288280e+18      RepDonBeyer  2020-07-28T21:06:41-04:00   \n",
       "638684  638684  1.200820e+18     RepDaveJoyce  2019-11-30T11:50:45-05:00   \n",
       "871843  871843  1.205540e+18      RepDonBeyer  2019-12-13T12:09:53-05:00   \n",
       "\n",
       "                                                     text  \\\n",
       "908961  RT @RepKClark 22 million Americans filed for u...   \n",
       "175615  Thanks to all who came out to tonight’s forum ...   \n",
       "64613   RT @RepFilemonVela #Dreamers &amp; TPS recipie...   \n",
       "783091  RT @HispanicCaucus @JoaquinCastrotx @TheBlackC...   \n",
       "553399  Thank you to @NYGovCuomo for being here today ...   \n",
       "32238   .@RepRubenGallego and I are urging companies w...   \n",
       "20570   Another month, another jobs report, showing th...   \n",
       "704089  RT @eyokley NEW: Police reform debate paints a...   \n",
       "246925  This order cuts unemployment, abandons our loc...   \n",
       "267417  RT @RepRussFulcher January reports show amazin...   \n",
       "327495  First stop on @JoeBiden's apology tour... Beij...   \n",
       "445303  After my staff and I completed 21 housing list...   \n",
       "639118  I was pleased to serve as an NDAA Conferee fro...   \n",
       "780124  RT @Jkylebass chinese army has invaded HK. The...   \n",
       "48453   Colin is a great person to lead @BeltwayBeef f...   \n",
       "57313   DREAMers are just as American as any us, and t...   \n",
       "536607  My thoughts tonight are with his family and th...   \n",
       "882360  RT @DavidCornDC .@RepSwalwell: Are you investi...   \n",
       "638684  My first stop was the new police station (with...   \n",
       "871843  RT @CaucusOnClimate To commemorate the 4th ann...   \n",
       "\n",
       "                name_wikipedia position joined_congress_date    birthday  \\\n",
       "908961         Pramila Jayapal      Rep             3-Jan-17   9/21/1965   \n",
       "175615          John B. Larson      Rep             3-Jan-99   7/22/1948   \n",
       "64613             Nancy Pelosi      Rep             2-Jun-87   3/26/1940   \n",
       "783091          Joaquín Castro      Rep             3-Jan-13   9/16/1974   \n",
       "553399       Joseph D. Morelle      Rep            13-Nov-18   4/29/1957   \n",
       "32238             Greg Stanton      Rep             3-Jan-19    3/8/1970   \n",
       "20570               Andy Biggs      Rep             3-Jan-17   11/7/1958   \n",
       "704089            Dwight Evans      Rep            14-Nov-16   5/16/1954   \n",
       "246925  Debbie Mucarsel-Powell      Rep             3-Jan-19   1/18/1971   \n",
       "267417            Mike Simpson      Rep             3-Jan-99    9/8/1950   \n",
       "327495               Jim Banks      Rep             3-Jan-17   7/16/1979   \n",
       "445303              Tina Smith      Sen             3-Jan-18    3/4/1958   \n",
       "639118            Bill Johnson      Rep             3-Jan-11  11/10/1954   \n",
       "780124             John Cornyn      Sen             2-Dec-02    2/2/1952   \n",
       "48453            Rick Crawford      Rep             3-Jan-11   1/22/1966   \n",
       "57313             Norma Torres      Rep             3-Jan-15    4/4/1965   \n",
       "536607                Andy Kim      Rep             3-Jan-19   7/12/1982   \n",
       "882360               Don Beyer      Rep             3-Jan-15   6/20/1950   \n",
       "638684             David Joyce      Rep             3-Jan-13   3/17/1957   \n",
       "871843               Don Beyer      Rep             3-Jan-15   6/20/1950   \n",
       "\n",
       "       gender state district_number       party trump_2016_state_share  \\\n",
       "908961      F    WA               7    Democrat              1,221,747   \n",
       "175615      M    CT               1    Democrat                673,215   \n",
       "64613       F    CA              12    Democrat              4,483,814   \n",
       "783091      M    TX              20    Democrat              4,685,047   \n",
       "553399      M    NY              25    Democrat              2,819,533   \n",
       "32238       M    AZ               9    Democrat              1,252,401   \n",
       "20570       M    AZ               5  Republican              1,252,401   \n",
       "704089      M    PA               3    Democrat              2,970,733   \n",
       "246925      F    FL              26    Democrat              4,617,886   \n",
       "267417      M    ID               2  Republican                409,055   \n",
       "327495      M    IN               3  Republican              1,557,286   \n",
       "445303      F    MN          Senate    Democrat              1,322,951   \n",
       "639118      M    OH               6  Republican              2,841,005   \n",
       "780124      M    TX          Senate  Republican              4,685,047   \n",
       "48453       M    AR               1  Republican                684,872   \n",
       "57313       F    CA              35    Democrat              4,483,814   \n",
       "536607      M    NJ               3    Democrat              1,601,933   \n",
       "882360      M    VA               8    Democrat              1,769,443   \n",
       "638684      M    OH              14  Republican              2,841,005   \n",
       "871843      M    VA               8    Democrat              1,769,443   \n",
       "\n",
       "       clinton_2016_state_share obama_2012_state_share romney_2012_state_share  \n",
       "908961                1,742,718              1,755,396               1,290,670  \n",
       "175615                  897,572                905,083                 634,892  \n",
       "64613                 8,753,792              7,854,285               4,839,958  \n",
       "783091                3,877,868              3,308,124               4,569,843  \n",
       "553399                4,556,118              4,485,741               2,490,431  \n",
       "32238                 1,161,167              1,025,232               1,233,654  \n",
       "20570                 1,161,167              1,025,232               1,233,654  \n",
       "704089                2,926,441              2,990,274               2,680,434  \n",
       "246925                4,504,975              4,237,756               4,163,447  \n",
       "267417                  189,765                212,787                 420,911  \n",
       "327495                1,033,126              1,152,887               1,420,543  \n",
       "445303                1,367,716              1,546,167               1,320,225  \n",
       "639118                2,394,164              2,827,709               2,661,437  \n",
       "780124                3,877,868              3,308,124               4,569,843  \n",
       "48453                   380,494                394,409                 647,744  \n",
       "57313                 8,753,792              7,854,285               4,839,958  \n",
       "536607                2,148,278              2,125,101               1,477,568  \n",
       "882360                1,981,473              1,971,820               1,822,522  \n",
       "638684                2,394,164              2,827,709               2,661,437  \n",
       "871843                1,981,473              1,971,820               1,822,522  "
      ]
     },
     "execution_count": 7,
     "metadata": {},
     "output_type": "execute_result"
    }
   ],
   "source": [
    "np.random.seed(42)\n",
    "congress_tweets_subset = congress_tweets.sample(10000)\n",
    "congress_tweets_subset.head(20)"
   ]
  },
  {
   "cell_type": "markdown",
   "metadata": {},
   "source": [
    "## Preprocessing"
   ]
  },
  {
   "cell_type": "markdown",
   "metadata": {},
   "source": [
    "The first step in working with text data is to preprocess it. Make sure you do the following:\n",
    "\n",
    "* Remove punctuation and stop words. The `rem_punc_stop()` function we used in lab is provided to you but you should feel free to edit it as necessary for other steps\n",
    "* Remove tokens that occur frequently in tweets, but may not be helpful for downstream classification. For instance, many tweets contain a flag for retweeting, or share a URL \n",
    "\n",
    "As you search online, you might run into solutions that rely on regular expressions. You are free to use these, but you should also be able to preprocess using the techniques we covered in lab. Specifically, we encourage you to use spaCy's token attributes and string methods to do some of this text preprocessing."
   ]
  },
  {
   "cell_type": "code",
   "execution_count": 10,
   "metadata": {},
   "outputs": [
    {
     "data": {
      "text/plain": [
       "<bound method NDFrame.head of 908961    RT @RepKClark 22 million Americans filed for u...\n",
       "175615    Thanks to all who came out to tonight’s forum ...\n",
       "64613     RT @RepFilemonVela #Dreamers &amp; TPS recipie...\n",
       "783091    RT @HispanicCaucus @JoaquinCastrotx @TheBlackC...\n",
       "553399    Thank you to @NYGovCuomo for being here today ...\n",
       "                                ...                        \n",
       "797049    I will continue working with my colleagues in ...\n",
       "462598    I think it’s important that we not only produc...\n",
       "77667     RT @ChispaLcv Thank you for speaking out on th...\n",
       "731701    As the pandemic wreaks havoc with renewed forc...\n",
       "9820      Wishing a #ShanahTovah to all of my Jewish fri...\n",
       "Name: text, Length: 10000, dtype: object>"
      ]
     },
     "execution_count": 10,
     "metadata": {},
     "output_type": "execute_result"
    }
   ],
   "source": [
    "congress_tweets_subset['text'].head"
   ]
  },
  {
   "cell_type": "code",
   "execution_count": 11,
   "metadata": {},
   "outputs": [
    {
     "data": {
      "text/plain": [
       "'Thanks to all who came out to tonight’s forum on the #GOPTaxLaw http://pbs.twimg.com/media/Dz0DJyKWsAAT3FZ.jpg http://pbs.twimg.com/media/Dz0DJyKXgAAyc6N.jpg http://pbs.twimg.com/media/Dz0DJyLWkAUzD4L.jpg'"
      ]
     },
     "execution_count": 11,
     "metadata": {},
     "output_type": "execute_result"
    }
   ],
   "source": [
    "tweets = congress_tweets_subset['text'][175615]\n",
    "tweets"
   ]
  },
  {
   "cell_type": "code",
   "execution_count": 12,
   "metadata": {},
   "outputs": [
    {
     "data": {
      "text/plain": [
       "['Thanks to all who came out to tonight’s forum on the #GOPTaxLaw http://pbs',\n",
       " 'twimg',\n",
       " 'com/media/Dz0DJyKWsAAT3FZ',\n",
       " 'jpg http://pbs',\n",
       " 'twimg',\n",
       " 'com/media/Dz0DJyKXgAAyc6N',\n",
       " 'jpg http://pbs',\n",
       " 'twimg',\n",
       " 'com/media/Dz0DJyLWkAUzD4L',\n",
       " 'jpg']"
      ]
     },
     "execution_count": 12,
     "metadata": {},
     "output_type": "execute_result"
    }
   ],
   "source": [
    "sentences = tweets.split(\".\")\n",
    "sentences"
   ]
  },
  {
   "cell_type": "code",
   "execution_count": 13,
   "metadata": {},
   "outputs": [],
   "source": [
    "def rem_punc_stop(text):\n",
    "    stop_words = STOP_WORDS\n",
    "    nlp.Defaults.stop_words |= {\"http://\", \"https://\",\"RT\",\"\\n\",\"\\n\\xa0\\n\",\"\\n\\n\", \"QT\",\"amp\"}\n",
    "    \n",
    "    punc = set(punctuation)\n",
    "    \n",
    "    punc_free = \"\".join([ch for ch in text if ch not in punc])\n",
    "    \n",
    "    doc = nlp(punc_free)\n",
    "    \n",
    "    spacy_words = [token.text for token in doc]\n",
    "    \n",
    "    spacy_words = [word for word in spacy_words if not word.startswith('http')]\n",
    "    \n",
    "    no_punc = [word for word in spacy_words if word not in stop_words]\n",
    "    \n",
    "    return no_punc"
   ]
  },
  {
   "cell_type": "code",
   "execution_count": 14,
   "metadata": {},
   "outputs": [
    {
     "data": {
      "text/plain": [
       "908961    [RepKClark, 22, million, Americans, filed, une...\n",
       "175615            [Thanks, came, tonight, forum, GOPTaxLaw]\n",
       "64613     [RepFilemonVela, Dreamers, TPS, recipients, es...\n",
       "783091    [HispanicCaucus, JoaquinCastrotx, TheBlackCauc...\n",
       "553399    [Thank, NYGovCuomo, today, face, extreme, weat...\n",
       "                                ...                        \n",
       "797049    [I, continue, working, colleagues, Senate, Pre...\n",
       "462598    [I, think, important, produce, result, look, w...\n",
       "77667     [ChispaLcv, Thank, speaking, importance, stron...\n",
       "731701    [As, pandemic, wreaks, havoc, renewed, force, ...\n",
       "9820      [Wishing, ShanahTovah, Jewish, friends, famili...\n",
       "Name: tokens, Length: 10000, dtype: object"
      ]
     },
     "execution_count": 14,
     "metadata": {},
     "output_type": "execute_result"
    }
   ],
   "source": [
    "congress_tweets_subset['tokens'] = congress_tweets_subset['text'].map(lambda x: rem_punc_stop(x)) # can use apply here apply() pd specific and map() base in tidyverse \n",
    "congress_tweets_subset['tokens'] # visualize"
   ]
  },
  {
   "cell_type": "code",
   "execution_count": 15,
   "metadata": {},
   "outputs": [
    {
     "data": {
      "text/plain": [
       "['Thanks', 'came', 'tonight', 'forum', 'GOPTaxLaw']"
      ]
     },
     "execution_count": 15,
     "metadata": {},
     "output_type": "execute_result"
    }
   ],
   "source": [
    "congress_tweets_subset['tokens'][175615]\n",
    "#Tokens removed include URL links, indications of Retweets and qouted tweets  which includes RT & QT, \n",
    "#and also removed /n/n which I am unsure what this might be alluding to in the textual corpus "
   ]
  },
  {
   "cell_type": "code",
   "execution_count": 16,
   "metadata": {},
   "outputs": [
    {
     "data": {
      "text/html": [
       "<div>\n",
       "<style scoped>\n",
       "    .dataframe tbody tr th:only-of-type {\n",
       "        vertical-align: middle;\n",
       "    }\n",
       "\n",
       "    .dataframe tbody tr th {\n",
       "        vertical-align: top;\n",
       "    }\n",
       "\n",
       "    .dataframe thead th {\n",
       "        text-align: right;\n",
       "    }\n",
       "</style>\n",
       "<table border=\"1\" class=\"dataframe\">\n",
       "  <thead>\n",
       "    <tr style=\"text-align: right;\">\n",
       "      <th></th>\n",
       "      <th>tokens</th>\n",
       "      <th>text</th>\n",
       "    </tr>\n",
       "  </thead>\n",
       "  <tbody>\n",
       "    <tr>\n",
       "      <th>908961</th>\n",
       "      <td>[RepKClark, 22, million, Americans, filed, une...</td>\n",
       "      <td>RT @RepKClark 22 million Americans filed for u...</td>\n",
       "    </tr>\n",
       "    <tr>\n",
       "      <th>175615</th>\n",
       "      <td>[Thanks, came, tonight, forum, GOPTaxLaw]</td>\n",
       "      <td>Thanks to all who came out to tonight’s forum ...</td>\n",
       "    </tr>\n",
       "    <tr>\n",
       "      <th>64613</th>\n",
       "      <td>[RepFilemonVela, Dreamers, TPS, recipients, es...</td>\n",
       "      <td>RT @RepFilemonVela #Dreamers &amp;amp; TPS recipie...</td>\n",
       "    </tr>\n",
       "    <tr>\n",
       "      <th>783091</th>\n",
       "      <td>[HispanicCaucus, JoaquinCastrotx, TheBlackCauc...</td>\n",
       "      <td>RT @HispanicCaucus @JoaquinCastrotx @TheBlackC...</td>\n",
       "    </tr>\n",
       "    <tr>\n",
       "      <th>553399</th>\n",
       "      <td>[Thank, NYGovCuomo, today, face, extreme, weat...</td>\n",
       "      <td>Thank you to @NYGovCuomo for being here today ...</td>\n",
       "    </tr>\n",
       "    <tr>\n",
       "      <th>...</th>\n",
       "      <td>...</td>\n",
       "      <td>...</td>\n",
       "    </tr>\n",
       "    <tr>\n",
       "      <th>797049</th>\n",
       "      <td>[I, continue, working, colleagues, Senate, Pre...</td>\n",
       "      <td>I will continue working with my colleagues in ...</td>\n",
       "    </tr>\n",
       "    <tr>\n",
       "      <th>462598</th>\n",
       "      <td>[I, think, important, produce, result, look, w...</td>\n",
       "      <td>I think it’s important that we not only produc...</td>\n",
       "    </tr>\n",
       "    <tr>\n",
       "      <th>77667</th>\n",
       "      <td>[ChispaLcv, Thank, speaking, importance, stron...</td>\n",
       "      <td>RT @ChispaLcv Thank you for speaking out on th...</td>\n",
       "    </tr>\n",
       "    <tr>\n",
       "      <th>731701</th>\n",
       "      <td>[As, pandemic, wreaks, havoc, renewed, force, ...</td>\n",
       "      <td>As the pandemic wreaks havoc with renewed forc...</td>\n",
       "    </tr>\n",
       "    <tr>\n",
       "      <th>9820</th>\n",
       "      <td>[Wishing, ShanahTovah, Jewish, friends, famili...</td>\n",
       "      <td>Wishing a #ShanahTovah to all of my Jewish fri...</td>\n",
       "    </tr>\n",
       "  </tbody>\n",
       "</table>\n",
       "<p>10000 rows × 2 columns</p>\n",
       "</div>"
      ],
      "text/plain": [
       "                                                   tokens  \\\n",
       "908961  [RepKClark, 22, million, Americans, filed, une...   \n",
       "175615          [Thanks, came, tonight, forum, GOPTaxLaw]   \n",
       "64613   [RepFilemonVela, Dreamers, TPS, recipients, es...   \n",
       "783091  [HispanicCaucus, JoaquinCastrotx, TheBlackCauc...   \n",
       "553399  [Thank, NYGovCuomo, today, face, extreme, weat...   \n",
       "...                                                   ...   \n",
       "797049  [I, continue, working, colleagues, Senate, Pre...   \n",
       "462598  [I, think, important, produce, result, look, w...   \n",
       "77667   [ChispaLcv, Thank, speaking, importance, stron...   \n",
       "731701  [As, pandemic, wreaks, havoc, renewed, force, ...   \n",
       "9820    [Wishing, ShanahTovah, Jewish, friends, famili...   \n",
       "\n",
       "                                                     text  \n",
       "908961  RT @RepKClark 22 million Americans filed for u...  \n",
       "175615  Thanks to all who came out to tonight’s forum ...  \n",
       "64613   RT @RepFilemonVela #Dreamers &amp; TPS recipie...  \n",
       "783091  RT @HispanicCaucus @JoaquinCastrotx @TheBlackC...  \n",
       "553399  Thank you to @NYGovCuomo for being here today ...  \n",
       "...                                                   ...  \n",
       "797049  I will continue working with my colleagues in ...  \n",
       "462598  I think it’s important that we not only produc...  \n",
       "77667   RT @ChispaLcv Thank you for speaking out on th...  \n",
       "731701  As the pandemic wreaks havoc with renewed forc...  \n",
       "9820    Wishing a #ShanahTovah to all of my Jewish fri...  \n",
       "\n",
       "[10000 rows x 2 columns]"
      ]
     },
     "execution_count": 16,
     "metadata": {},
     "output_type": "execute_result"
    }
   ],
   "source": [
    "congress_tweets_subset[['tokens','text']]"
   ]
  },
  {
   "cell_type": "markdown",
   "metadata": {},
   "source": [
    "## Exploratory Data Analysis"
   ]
  },
  {
   "cell_type": "markdown",
   "metadata": {},
   "source": [
    "Use two of the techniques we covered in lab (or other techniques outside of lab!) to explore the text of the tweets. You should construct these visualizations with an eye toward the eventual classification tasks: (1) predicting the legislator's political party based on the text of their tweet, and (2) predicting whether the legislator is a Senator or Representative. As a reminder, in lab we covered word frequencies, word clouds, word/character counts, scattertext, and topic modeling as possible exploration tools. "
   ]
  },
  {
   "cell_type": "markdown",
   "metadata": {},
   "source": [
    "### EDA 1"
   ]
  },
  {
   "cell_type": "code",
   "execution_count": 20,
   "metadata": {},
   "outputs": [
    {
     "name": "stdout",
     "output_type": "stream",
     "text": [
      "Requirement already satisfied: scattertext in /opt/anaconda3/lib/python3.12/site-packages (0.2.2)\n",
      "Requirement already satisfied: numpy>=1.2.6 in /opt/anaconda3/lib/python3.12/site-packages (from scattertext) (1.26.4)\n",
      "Requirement already satisfied: scipy<1.14.0,>=1.7.0 in /opt/anaconda3/lib/python3.12/site-packages (from scattertext) (1.13.1)\n",
      "Requirement already satisfied: scikit-learn>=1.4 in /opt/anaconda3/lib/python3.12/site-packages (from scattertext) (1.4.2)\n",
      "Requirement already satisfied: pandas>=2.0.0 in /opt/anaconda3/lib/python3.12/site-packages (from scattertext) (2.2.2)\n",
      "Requirement already satisfied: statsmodels>=0.14.1 in /opt/anaconda3/lib/python3.12/site-packages (from scattertext) (0.14.2)\n",
      "Requirement already satisfied: flashtext>=2.7 in /opt/anaconda3/lib/python3.12/site-packages (from scattertext) (2.7)\n",
      "Requirement already satisfied: gensim>=4.0.0 in /opt/anaconda3/lib/python3.12/site-packages (from scattertext) (4.3.2)\n",
      "Requirement already satisfied: spacy>=3.2 in /opt/anaconda3/lib/python3.12/site-packages (from scattertext) (3.8.4)\n",
      "Requirement already satisfied: tqdm>=4.0 in /opt/anaconda3/lib/python3.12/site-packages (from scattertext) (4.66.4)\n",
      "Requirement already satisfied: smart-open>=1.8.1 in /opt/anaconda3/lib/python3.12/site-packages (from gensim>=4.0.0->scattertext) (5.2.1)\n",
      "Requirement already satisfied: python-dateutil>=2.8.2 in /opt/anaconda3/lib/python3.12/site-packages (from pandas>=2.0.0->scattertext) (2.9.0.post0)\n",
      "Requirement already satisfied: pytz>=2020.1 in /opt/anaconda3/lib/python3.12/site-packages (from pandas>=2.0.0->scattertext) (2024.1)\n",
      "Requirement already satisfied: tzdata>=2022.7 in /opt/anaconda3/lib/python3.12/site-packages (from pandas>=2.0.0->scattertext) (2023.3)\n",
      "Requirement already satisfied: joblib>=1.2.0 in /opt/anaconda3/lib/python3.12/site-packages (from scikit-learn>=1.4->scattertext) (1.4.2)\n",
      "Requirement already satisfied: threadpoolctl>=2.0.0 in /opt/anaconda3/lib/python3.12/site-packages (from scikit-learn>=1.4->scattertext) (3.5.0)\n",
      "Requirement already satisfied: spacy-legacy<3.1.0,>=3.0.11 in /opt/anaconda3/lib/python3.12/site-packages (from spacy>=3.2->scattertext) (3.0.12)\n",
      "Requirement already satisfied: spacy-loggers<2.0.0,>=1.0.0 in /opt/anaconda3/lib/python3.12/site-packages (from spacy>=3.2->scattertext) (1.0.5)\n",
      "Requirement already satisfied: murmurhash<1.1.0,>=0.28.0 in /opt/anaconda3/lib/python3.12/site-packages (from spacy>=3.2->scattertext) (1.0.12)\n",
      "Requirement already satisfied: cymem<2.1.0,>=2.0.2 in /opt/anaconda3/lib/python3.12/site-packages (from spacy>=3.2->scattertext) (2.0.11)\n",
      "Requirement already satisfied: preshed<3.1.0,>=3.0.2 in /opt/anaconda3/lib/python3.12/site-packages (from spacy>=3.2->scattertext) (3.0.9)\n",
      "Requirement already satisfied: thinc<8.4.0,>=8.3.4 in /opt/anaconda3/lib/python3.12/site-packages (from spacy>=3.2->scattertext) (8.3.4)\n",
      "Requirement already satisfied: wasabi<1.2.0,>=0.9.1 in /opt/anaconda3/lib/python3.12/site-packages (from spacy>=3.2->scattertext) (1.1.3)\n",
      "Requirement already satisfied: srsly<3.0.0,>=2.4.3 in /opt/anaconda3/lib/python3.12/site-packages (from spacy>=3.2->scattertext) (2.5.1)\n",
      "Requirement already satisfied: catalogue<2.1.0,>=2.0.6 in /opt/anaconda3/lib/python3.12/site-packages (from spacy>=3.2->scattertext) (2.0.10)\n",
      "Requirement already satisfied: weasel<0.5.0,>=0.1.0 in /opt/anaconda3/lib/python3.12/site-packages (from spacy>=3.2->scattertext) (0.4.1)\n",
      "Requirement already satisfied: typer<1.0.0,>=0.3.0 in /opt/anaconda3/lib/python3.12/site-packages (from spacy>=3.2->scattertext) (0.15.1)\n",
      "Requirement already satisfied: requests<3.0.0,>=2.13.0 in /opt/anaconda3/lib/python3.12/site-packages (from spacy>=3.2->scattertext) (2.32.2)\n",
      "Requirement already satisfied: pydantic!=1.8,!=1.8.1,<3.0.0,>=1.7.4 in /opt/anaconda3/lib/python3.12/site-packages (from spacy>=3.2->scattertext) (2.7.4)\n",
      "Requirement already satisfied: jinja2 in /opt/anaconda3/lib/python3.12/site-packages (from spacy>=3.2->scattertext) (3.1.4)\n",
      "Requirement already satisfied: setuptools in /opt/anaconda3/lib/python3.12/site-packages (from spacy>=3.2->scattertext) (69.5.1)\n",
      "Requirement already satisfied: packaging>=20.0 in /opt/anaconda3/lib/python3.12/site-packages (from spacy>=3.2->scattertext) (23.2)\n",
      "Requirement already satisfied: langcodes<4.0.0,>=3.2.0 in /opt/anaconda3/lib/python3.12/site-packages (from spacy>=3.2->scattertext) (3.5.0)\n",
      "Requirement already satisfied: patsy>=0.5.6 in /opt/anaconda3/lib/python3.12/site-packages (from statsmodels>=0.14.1->scattertext) (0.5.6)\n",
      "Requirement already satisfied: language-data>=1.2 in /opt/anaconda3/lib/python3.12/site-packages (from langcodes<4.0.0,>=3.2.0->spacy>=3.2->scattertext) (1.3.0)\n",
      "Requirement already satisfied: six in /opt/anaconda3/lib/python3.12/site-packages (from patsy>=0.5.6->statsmodels>=0.14.1->scattertext) (1.16.0)\n",
      "Requirement already satisfied: annotated-types>=0.4.0 in /opt/anaconda3/lib/python3.12/site-packages (from pydantic!=1.8,!=1.8.1,<3.0.0,>=1.7.4->spacy>=3.2->scattertext) (0.6.0)\n",
      "Requirement already satisfied: pydantic-core==2.18.4 in /opt/anaconda3/lib/python3.12/site-packages (from pydantic!=1.8,!=1.8.1,<3.0.0,>=1.7.4->spacy>=3.2->scattertext) (2.18.4)\n",
      "Requirement already satisfied: typing-extensions>=4.6.1 in /opt/anaconda3/lib/python3.12/site-packages (from pydantic!=1.8,!=1.8.1,<3.0.0,>=1.7.4->spacy>=3.2->scattertext) (4.11.0)\n",
      "Requirement already satisfied: charset-normalizer<4,>=2 in /opt/anaconda3/lib/python3.12/site-packages (from requests<3.0.0,>=2.13.0->spacy>=3.2->scattertext) (2.0.4)\n",
      "Requirement already satisfied: idna<4,>=2.5 in /opt/anaconda3/lib/python3.12/site-packages (from requests<3.0.0,>=2.13.0->spacy>=3.2->scattertext) (3.7)\n",
      "Requirement already satisfied: urllib3<3,>=1.21.1 in /opt/anaconda3/lib/python3.12/site-packages (from requests<3.0.0,>=2.13.0->spacy>=3.2->scattertext) (2.2.2)\n",
      "Requirement already satisfied: certifi>=2017.4.17 in /opt/anaconda3/lib/python3.12/site-packages (from requests<3.0.0,>=2.13.0->spacy>=3.2->scattertext) (2024.7.4)\n",
      "Requirement already satisfied: blis<1.3.0,>=1.2.0 in /opt/anaconda3/lib/python3.12/site-packages (from thinc<8.4.0,>=8.3.4->spacy>=3.2->scattertext) (1.2.0)\n",
      "Requirement already satisfied: confection<1.0.0,>=0.0.1 in /opt/anaconda3/lib/python3.12/site-packages (from thinc<8.4.0,>=8.3.4->spacy>=3.2->scattertext) (0.1.5)\n",
      "Requirement already satisfied: click>=8.0.0 in /opt/anaconda3/lib/python3.12/site-packages (from typer<1.0.0,>=0.3.0->spacy>=3.2->scattertext) (8.1.7)\n",
      "Requirement already satisfied: shellingham>=1.3.0 in /opt/anaconda3/lib/python3.12/site-packages (from typer<1.0.0,>=0.3.0->spacy>=3.2->scattertext) (1.5.4)\n",
      "Requirement already satisfied: rich>=10.11.0 in /opt/anaconda3/lib/python3.12/site-packages (from typer<1.0.0,>=0.3.0->spacy>=3.2->scattertext) (13.9.3)\n",
      "Requirement already satisfied: cloudpathlib<1.0.0,>=0.7.0 in /opt/anaconda3/lib/python3.12/site-packages (from weasel<0.5.0,>=0.1.0->spacy>=3.2->scattertext) (0.20.0)\n",
      "Requirement already satisfied: MarkupSafe>=2.0 in /opt/anaconda3/lib/python3.12/site-packages (from jinja2->spacy>=3.2->scattertext) (2.1.3)\n",
      "Requirement already satisfied: marisa-trie>=1.1.0 in /opt/anaconda3/lib/python3.12/site-packages (from language-data>=1.2->langcodes<4.0.0,>=3.2.0->spacy>=3.2->scattertext) (1.2.1)\n",
      "Requirement already satisfied: markdown-it-py>=2.2.0 in /opt/anaconda3/lib/python3.12/site-packages (from rich>=10.11.0->typer<1.0.0,>=0.3.0->spacy>=3.2->scattertext) (2.2.0)\n",
      "Requirement already satisfied: pygments<3.0.0,>=2.13.0 in /opt/anaconda3/lib/python3.12/site-packages (from rich>=10.11.0->typer<1.0.0,>=0.3.0->spacy>=3.2->scattertext) (2.15.1)\n",
      "Requirement already satisfied: mdurl~=0.1 in /opt/anaconda3/lib/python3.12/site-packages (from markdown-it-py>=2.2.0->rich>=10.11.0->typer<1.0.0,>=0.3.0->spacy>=3.2->scattertext) (0.1.0)\n",
      "Requirement already satisfied: wordcloud in /opt/anaconda3/lib/python3.12/site-packages (1.9.4)\n",
      "Requirement already satisfied: numpy>=1.6.1 in /opt/anaconda3/lib/python3.12/site-packages (from wordcloud) (1.26.4)\n",
      "Requirement already satisfied: pillow in /opt/anaconda3/lib/python3.12/site-packages (from wordcloud) (10.3.0)\n",
      "Requirement already satisfied: matplotlib in /opt/anaconda3/lib/python3.12/site-packages (from wordcloud) (3.8.4)\n",
      "Requirement already satisfied: contourpy>=1.0.1 in /opt/anaconda3/lib/python3.12/site-packages (from matplotlib->wordcloud) (1.2.0)\n",
      "Requirement already satisfied: cycler>=0.10 in /opt/anaconda3/lib/python3.12/site-packages (from matplotlib->wordcloud) (0.11.0)\n",
      "Requirement already satisfied: fonttools>=4.22.0 in /opt/anaconda3/lib/python3.12/site-packages (from matplotlib->wordcloud) (4.51.0)\n",
      "Requirement already satisfied: kiwisolver>=1.3.1 in /opt/anaconda3/lib/python3.12/site-packages (from matplotlib->wordcloud) (1.4.4)\n",
      "Requirement already satisfied: packaging>=20.0 in /opt/anaconda3/lib/python3.12/site-packages (from matplotlib->wordcloud) (23.2)\n",
      "Requirement already satisfied: pyparsing>=2.3.1 in /opt/anaconda3/lib/python3.12/site-packages (from matplotlib->wordcloud) (3.0.9)\n",
      "Requirement already satisfied: python-dateutil>=2.7 in /opt/anaconda3/lib/python3.12/site-packages (from matplotlib->wordcloud) (2.9.0.post0)\n",
      "Requirement already satisfied: six>=1.5 in /opt/anaconda3/lib/python3.12/site-packages (from python-dateutil>=2.7->matplotlib->wordcloud) (1.16.0)\n",
      "Requirement already satisfied: textblob in /opt/anaconda3/lib/python3.12/site-packages (0.19.0)\n",
      "Requirement already satisfied: nltk>=3.9 in /opt/anaconda3/lib/python3.12/site-packages (from textblob) (3.9.1)\n",
      "Requirement already satisfied: click in /opt/anaconda3/lib/python3.12/site-packages (from nltk>=3.9->textblob) (8.1.7)\n",
      "Requirement already satisfied: joblib in /opt/anaconda3/lib/python3.12/site-packages (from nltk>=3.9->textblob) (1.4.2)\n",
      "Requirement already satisfied: regex>=2021.8.3 in /opt/anaconda3/lib/python3.12/site-packages (from nltk>=3.9->textblob) (2023.10.3)\n",
      "Requirement already satisfied: tqdm in /opt/anaconda3/lib/python3.12/site-packages (from nltk>=3.9->textblob) (4.66.4)\n"
     ]
    }
   ],
   "source": [
    "!pip install scattertext\n",
    "!pip install wordcloud\n",
    "!pip install textblob"
   ]
  },
  {
   "cell_type": "code",
   "execution_count": 21,
   "metadata": {},
   "outputs": [],
   "source": [
    "from wordcloud import WordCloud, STOPWORDS, ImageColorGenerator\n",
    "from textblob import TextBlob\n",
    "from sklearn.feature_extraction.text import TfidfVectorizer\n",
    "from sklearn.decomposition import LatentDirichletAllocation\n",
    "import seaborn as sns\n",
    "import matplotlib.pyplot as plt\n"
   ]
  },
  {
   "cell_type": "code",
   "execution_count": 22,
   "metadata": {},
   "outputs": [
    {
     "data": {
      "image/png": "[encoded data removed]",
      "text/plain": [
       "<Figure size 640x480 with 1 Axes>"
      ]
     },
     "metadata": {},
     "output_type": "display_data"
    }
   ],
   "source": [
    "# apply function to text object; created a text object \n",
    "text = ' '.join(congress_tweets_subset['tokens'].map(lambda text: ' '.join(text)))\n",
    "\n",
    "# create WordCloud visualization using the \"text\" object \n",
    "wordcloud = WordCloud(random_state=40).generate(text) # set random state to ensure same word cloud each time; random seed \n",
    "\n",
    "# plot \n",
    "plt.imshow(wordcloud,                  # specify wordcloud\n",
    "           interpolation = 'bilinear') # specifies how the words are displayed\n",
    "plt.axis('off')                        # turn off axes\n",
    "plt.show()      \n",
    "# interestingly words like American, today, families,  Work, support, and President, COVID-19 has higher frequency in this textual corpus. "
   ]
  },
  {
   "cell_type": "markdown",
   "metadata": {},
   "source": [
    "### EDA 2"
   ]
  },
  {
   "cell_type": "code",
   "execution_count": 24,
   "metadata": {},
   "outputs": [],
   "source": [
    "# create new feature columns with counts of # of characters and # of words\n",
    "# ----------\n",
    "\n",
    "# count number of characters\n",
    "congress_tweets_subset['tweet_len'] = congress_tweets_subset['text'].apply(len)\n",
    "\n",
    "# count number of words\n",
    "congress_tweets_subset['tweet_word_count'] = congress_tweets_subset['text'].apply(lambda x: len(str(x).split()))"
   ]
  },
  {
   "cell_type": "code",
   "execution_count": 25,
   "metadata": {},
   "outputs": [
    {
     "data": {
      "image/png": "[encoded data removed]",
      "text/plain": [
       "<Figure size 500x500 with 1 Axes>"
      ]
     },
     "metadata": {},
     "output_type": "display_data"
    }
   ],
   "source": [
    "# create histogram of complaint length (number of characters)\n",
    "sns.displot(congress_tweets_subset,              # specify data\n",
    "            x=\"tweet_len\") # x-axis feature\n",
    "plt.show() # distribution of word character count is skewed but perhaps due to the limit on word characters that exist on twitter/X"
   ]
  },
  {
   "cell_type": "code",
   "execution_count": 43,
   "metadata": {},
   "outputs": [
    {
     "data": {
      "image/png": "[encoded data removed]",
      "text/plain": [
       "<Figure size 500x500 with 1 Axes>"
      ]
     },
     "metadata": {},
     "output_type": "display_data"
    }
   ],
   "source": [
    "# create histogram of word count\n",
    "sns.displot(congress_tweets_subset,           # specify data \n",
    "            x=\"tweet_word_count\") # x-axis feature\n",
    "plt.show() # "
   ]
  },
  {
   "cell_type": "markdown",
   "metadata": {},
   "source": [
    "## Sentiment Analysis"
   ]
  },
  {
   "cell_type": "markdown",
   "metadata": {},
   "source": [
    "Next, let's analyze the sentiments contained within the tweets. You may use TextBlob or another library for these tasks. Do the following:\n",
    "\n",
    "* Choose two legislators, one who you think will be more liberal and one who you think will be more conservative, and analyze their sentiment and/or subjectivity scores per tweet. For instance, you might do two scatterplots that plot each legislator's sentiment against their subjectivity, or two density plots for their sentiments. Do the scores match what you thought?\n",
    "* Plot two more visualizations like the ones you chose in the first part, but do them to compare (1) Democrats v. Republicans and (2) Senators v. Representatives \n",
    "\n",
    "`TextBlob` has already been imported in the top cell."
   ]
  },
  {
   "cell_type": "code",
   "execution_count": null,
   "metadata": {},
   "outputs": [],
   "source": [
    "..."
   ]
  },
  {
   "cell_type": "markdown",
   "metadata": {},
   "source": [
    "## Featurization"
   ]
  },
  {
   "cell_type": "markdown",
   "metadata": {},
   "source": [
    "Before going to classification, explore different featurization techniques. Create three dataframes or arrays to represent your text features, specifically:\n",
    "\n",
    "* Features engineered from your previous analysis. For example, word counts, sentiment scores, topic model etc.\n",
    "* A term frequency-inverse document frequency matrix. \n",
    "* An embedding-based featurization (like a document averaged word2vec)\n",
    "\n",
    "In the next section, you will experiment with each of these featurization techniques to see which one produces the best classifications."
   ]
  },
  {
   "cell_type": "code",
   "execution_count": null,
   "metadata": {},
   "outputs": [],
   "source": [
    "..."
   ]
  },
  {
   "cell_type": "markdown",
   "metadata": {},
   "source": [
    "### Engineered Text Features"
   ]
  },
  {
   "cell_type": "code",
   "execution_count": null,
   "metadata": {},
   "outputs": [],
   "source": [
    "# Engineered Features\n",
    "..."
   ]
  },
  {
   "cell_type": "markdown",
   "metadata": {},
   "source": [
    "### Bag-of-words or Tf-idf"
   ]
  },
  {
   "cell_type": "code",
   "execution_count": null,
   "metadata": {},
   "outputs": [],
   "source": [
    "# Frequency Based featurization\n",
    "..."
   ]
  },
  {
   "cell_type": "markdown",
   "metadata": {},
   "source": [
    "### Word Embedding"
   ]
  },
  {
   "cell_type": "code",
   "execution_count": null,
   "metadata": {},
   "outputs": [],
   "source": [
    "# Load Word2Vec model from Google; OPTIONAL depending on your computational resources (the file is ~1 GB)\n",
    "# Also note that this file path assumes that the word vectors are underneath 'data'; you may wish to point to the CSS course repo and change the path\n",
    "# or move the vector file to the project repo \n",
    "\n",
    "#model = gensim.models.KeyedVectors.load_word2vec_format('data/GoogleNews-vectors-negative300.bin.gz', binary = True) "
   ]
  },
  {
   "cell_type": "code",
   "execution_count": null,
   "metadata": {},
   "outputs": [],
   "source": [
    "# Function to average word embeddings for a document; use examples from lab to apply this function. You can use also other techniques such as PCA and doc2vec instead.\n",
    "def document_vector(word2vec_model, doc):\n",
    "    doc = [word for word in doc if word in model.vocab]\n",
    "    return np.mean(model[doc], axis=0)"
   ]
  },
  {
   "cell_type": "code",
   "execution_count": null,
   "metadata": {},
   "outputs": [],
   "source": [
    "# embedding based featurization\n",
    "..."
   ]
  },
  {
   "cell_type": "markdown",
   "metadata": {},
   "source": [
    "## Classification"
   ]
  },
  {
   "cell_type": "markdown",
   "metadata": {},
   "source": [
    "Either use cross-validation or partition your data with training/validation/test sets for this section. Do the following:\n",
    "\n",
    "* Choose a supervised learning algorithm such as logistic regression, random forest etc. \n",
    "* Train six models. For each of the three dataframes you created in the featurization part, train one model to predict whether the author of the tweet is a Democrat or Republican, and a second model to predict whether the author is a Senator or Representative.\n",
    "* Report the accuracy and other relevant metrics for each of these six models.\n",
    "* Choose the featurization technique associated with your best model. Combine those text features with non-text features. Train two more models: (1) A supervised learning algorithm that uses just the non-text features and (2) a supervised learning algorithm that combines text and non-text features. Report accuracy and other relevant metrics. \n",
    "\n",
    "If time permits, you are encouraged to use hyperparameter tuning or AutoML techniques like TPOT, but are not explicitly required to do so."
   ]
  },
  {
   "cell_type": "markdown",
   "metadata": {},
   "source": [
    "### Train Six Models with Just Text"
   ]
  },
  {
   "cell_type": "code",
   "execution_count": null,
   "metadata": {},
   "outputs": [],
   "source": [
    "# six models ([engineered features, frequency-based, embedding] * [democrat/republican, senator/representative])\n",
    "..."
   ]
  },
  {
   "cell_type": "markdown",
   "metadata": {},
   "source": [
    "### Two Combined Models"
   ]
  },
  {
   "cell_type": "code",
   "execution_count": null,
   "metadata": {},
   "outputs": [],
   "source": [
    "# two models ([best text features + non-text features] * [democrat/republican, senator/representative])\n",
    "..."
   ]
  },
  {
   "cell_type": "markdown",
   "metadata": {},
   "source": [
    "## Discussion Questions"
   ]
  },
  {
   "cell_type": "markdown",
   "metadata": {},
   "source": [
    "1. Why do standard preprocessing techniques need to be further customized to a particular corpus?"
   ]
  },
  {
   "cell_type": "markdown",
   "metadata": {},
   "source": [
    "**YOUR ANSWER HERE** ..."
   ]
  },
  {
   "cell_type": "markdown",
   "metadata": {},
   "source": [
    "2. Did you find evidence for the idea that Democrats and Republicans have different sentiments in their tweets? What about Senators and Representatives?"
   ]
  },
  {
   "cell_type": "markdown",
   "metadata": {},
   "source": [
    "**YOUR ANSWER HERE** ..."
   ]
  },
  {
   "cell_type": "markdown",
   "metadata": {},
   "source": [
    "3. Why is validating your exploratory and unsupervised learning approaches with a supervised learning algorithm valuable?"
   ]
  },
  {
   "cell_type": "markdown",
   "metadata": {},
   "source": [
    "**YOUR ANSWER HERE** ..."
   ]
  },
  {
   "cell_type": "markdown",
   "metadata": {},
   "source": [
    "4. Did text only, non-text only, or text and non-text features together perform the best? What is the intuition behind combining text and non-text features in a supervised learning algorithm?"
   ]
  },
  {
   "cell_type": "markdown",
   "metadata": {},
   "source": [
    "**YOUR ANSWER HERE** ..."
   ]
  }
 ],
 "metadata": {
  "kernelspec": {
   "display_name": "Python 3 (ipykernel)",
   "language": "python",
   "name": "python3"
  },
  "language_info": {
   "codemirror_mode": {
    "name": "ipython",
    "version": 3
   },
   "file_extension": ".py",
   "mimetype": "text/x-python",
   "name": "python",
   "nbconvert_exporter": "python",
   "pygments_lexer": "ipython3",
   "version": "3.12.4"
  }
 },
 "nbformat": 4,
 "nbformat_minor": 4
}
